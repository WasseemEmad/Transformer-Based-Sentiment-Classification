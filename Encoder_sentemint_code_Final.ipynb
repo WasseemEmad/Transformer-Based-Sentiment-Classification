{
  "nbformat": 4,
  "nbformat_minor": 0,
  "metadata": {
    "colab": {
      "provenance": [],
      "gpuType": "T4"
    },
    "kernelspec": {
      "name": "python3",
      "display_name": "Python 3"
    },
    "language_info": {
      "name": "python"
    },
    "accelerator": "GPU"
  },
  "cells": [
    {
      "cell_type": "markdown",
      "source": [
        "# libraries to be imported"
      ],
      "metadata": {
        "id": "1Hvijm7_Ysc9"
      }
    },
    {
      "cell_type": "code",
      "execution_count": null,
      "metadata": {
        "id": "ngosHkn7JhoW"
      },
      "outputs": [],
      "source": [
        "import torch\n",
        "import math\n",
        "from torch import nn\n",
        "import torch.nn.functional as F\n",
        "from tensorflow.keras.datasets.imdb import load_data\n",
        "from tensorflow.keras.datasets.imdb import get_word_index\n",
        "from tensorflow.keras.preprocessing.sequence import pad_sequences\n",
        "import numpy as np\n",
        "from sklearn.model_selection import train_test_split"
      ]
    },
    {
      "cell_type": "markdown",
      "source": [
        "# **1-Data Loading and Preprocessing**\n",
        "\n",
        "This section focuses on loading the IMDB dataset, padding the sequences, and splitting the data into training, validation, and test sets."
      ],
      "metadata": {
        "id": "r-iNzXpAY5KT"
      }
    },
    {
      "cell_type": "markdown",
      "source": [
        "## **Dataset configuration**"
      ],
      "metadata": {
        "id": "KluB9YC4ZVAA"
      }
    },
    {
      "cell_type": "code",
      "source": [
        "max_sequence_length = 300\n",
        "max_features = 20000"
      ],
      "metadata": {
        "id": "drkZLoD4eCOT"
      },
      "execution_count": null,
      "outputs": []
    },
    {
      "cell_type": "markdown",
      "source": [
        "## **Load the IMDB dataset**"
      ],
      "metadata": {
        "id": "RrUmm-vdZaLo"
      }
    },
    {
      "cell_type": "code",
      "source": [
        "(x_train, y_train), (x_test, y_test) = load_data(\n",
        "    num_words= max_features,\n",
        "    skip_top=0,\n",
        "    maxlen=max_sequence_length,\n",
        "    start_char=1,\n",
        "    oov_char=2,\n",
        "    index_from=3,\n",
        ")"
      ],
      "metadata": {
        "id": "gTYT7pJUa0i9",
        "colab": {
          "base_uri": "https://localhost:8080/"
        },
        "outputId": "77f7edcc-3a3c-4161-a57e-aec691f6a914"
      },
      "execution_count": null,
      "outputs": [
        {
          "output_type": "stream",
          "name": "stdout",
          "text": [
            "Downloading data from https://storage.googleapis.com/tensorflow/tf-keras-datasets/imdb.npz\n",
            "\u001b[1m17464789/17464789\u001b[0m \u001b[32m━━━━━━━━━━━━━━━━━━━━\u001b[0m\u001b[37m\u001b[0m \u001b[1m2s\u001b[0m 0us/step\n"
          ]
        }
      ]
    },
    {
      "cell_type": "code",
      "source": [
        "word_index = get_word_index()"
      ],
      "metadata": {
        "id": "SHU0LryNbjju",
        "colab": {
          "base_uri": "https://localhost:8080/"
        },
        "outputId": "72401b5f-9a5b-4e90-97b9-d378bf4caa5b"
      },
      "execution_count": null,
      "outputs": [
        {
          "output_type": "stream",
          "name": "stdout",
          "text": [
            "Downloading data from https://storage.googleapis.com/tensorflow/tf-keras-datasets/imdb_word_index.json\n",
            "\u001b[1m1641221/1641221\u001b[0m \u001b[32m━━━━━━━━━━━━━━━━━━━━\u001b[0m\u001b[37m\u001b[0m \u001b[1m1s\u001b[0m 1us/step\n"
          ]
        }
      ]
    },
    {
      "cell_type": "code",
      "source": [
        "inverted_word_index = {i + 3: word for word, i in word_index.items()}\n",
        "max_vocab_size = max(inverted_word_index)\n",
        "print(max_vocab_size)"
      ],
      "metadata": {
        "colab": {
          "base_uri": "https://localhost:8080/"
        },
        "id": "6rS8IS6cdNht",
        "outputId": "d809be95-0775-4a30-b3b9-214917b897d8"
      },
      "execution_count": null,
      "outputs": [
        {
          "output_type": "stream",
          "name": "stdout",
          "text": [
            "88587\n"
          ]
        }
      ]
    },
    {
      "cell_type": "markdown",
      "source": [
        "This is a function that turn the sequecen of numbers to words"
      ],
      "metadata": {
        "id": "B-3Lzp1JZjGJ"
      }
    },
    {
      "cell_type": "code",
      "source": [
        "def decode_sequence(sequence,word_index):\n",
        "    inverted_word_index = {i + 3: word for word, i in word_index.items()}\n",
        "    inverted_word_index[1] = \"[START]\"\n",
        "    inverted_word_index[2] = \"[OOV]\"\n",
        "\n",
        "    decoded_sentence = \" \".join(inverted_word_index.get(i, \"[UNK]\") for i in sequence)\n",
        "    return decoded_sentence"
      ],
      "metadata": {
        "id": "r6wzWVdybmlz"
      },
      "execution_count": null,
      "outputs": []
    },
    {
      "cell_type": "markdown",
      "source": [
        "Testing the Function"
      ],
      "metadata": {
        "id": "S3jrIxuMZwZ6"
      }
    },
    {
      "cell_type": "code",
      "source": [
        "\n",
        "word_index = word_index\n",
        "sequence = [1, 6, 77, 4, 777]\n",
        "\n",
        "decoded = decode_sequence(sequence, word_index)\n",
        "print(decoded)"
      ],
      "metadata": {
        "colab": {
          "base_uri": "https://localhost:8080/"
        },
        "id": "GlIVYwPmb360",
        "outputId": "bc3547be-16dd-45c2-ee06-d3f4a57fdeb9"
      },
      "execution_count": null,
      "outputs": [
        {
          "output_type": "stream",
          "name": "stdout",
          "text": [
            "[START] a been the fantastic\n"
          ]
        }
      ]
    },
    {
      "cell_type": "code",
      "source": [
        "print(\"Training\")\n",
        "print(f\"x_train shape = {x_train.shape}\")\n",
        "print(f\"x_train shape = {y_train.shape}\")\n",
        "print(\"Testing\")\n",
        "print(f\"x_test shape = {x_test.shape}\")\n",
        "print(f\"y_test shape = {y_test.shape}\")"
      ],
      "metadata": {
        "colab": {
          "base_uri": "https://localhost:8080/"
        },
        "id": "hDYARcEvdfqT",
        "outputId": "df499983-2331-4df7-86ae-8297e56d6bee"
      },
      "execution_count": null,
      "outputs": [
        {
          "output_type": "stream",
          "name": "stdout",
          "text": [
            "Training\n",
            "x_train shape = (19051,)\n",
            "x_train shape = (19051,)\n",
            "Testing\n",
            "x_test shape = (19450,)\n",
            "y_test shape = (19450,)\n"
          ]
        }
      ]
    },
    {
      "cell_type": "code",
      "source": [
        "x = np.concatenate([x_train, x_test], axis=0)\n",
        "y = np.concatenate([y_train, y_test], axis=0)"
      ],
      "metadata": {
        "id": "sB1wvU9XZ43o"
      },
      "execution_count": null,
      "outputs": []
    },
    {
      "cell_type": "code",
      "source": [
        "print(f\"x shape = {x.shape}\")\n",
        "print(f\"y shape = {y.shape}\")"
      ],
      "metadata": {
        "colab": {
          "base_uri": "https://localhost:8080/"
        },
        "id": "qFBHx-3JaYnC",
        "outputId": "92c56b65-8fec-406a-cf75-7fa4354bac2d"
      },
      "execution_count": null,
      "outputs": [
        {
          "output_type": "stream",
          "name": "stdout",
          "text": [
            "x shape = (38501,)\n",
            "y shape = (38501,)\n"
          ]
        }
      ]
    },
    {
      "cell_type": "markdown",
      "source": [
        "## **Pad the sequences**\n",
        "\n",
        "This is done so that all the sentences are the same length."
      ],
      "metadata": {
        "id": "8YXPajODZ3_w"
      }
    },
    {
      "cell_type": "code",
      "source": [
        "x_padded = pad_sequences(x, maxlen=max_sequence_length, padding='post', truncating='post')"
      ],
      "metadata": {
        "id": "oEAFJxykeIh2"
      },
      "execution_count": null,
      "outputs": []
    },
    {
      "cell_type": "markdown",
      "source": [
        "## **Split into training, validation, and test sets**"
      ],
      "metadata": {
        "id": "dJEUhxzAaBIi"
      }
    },
    {
      "cell_type": "code",
      "source": [
        "x_train, x_test, y_train, y_test = train_test_split(\n",
        "    x_padded, y, test_size=0.1, random_state=42\n",
        ")"
      ],
      "metadata": {
        "id": "WJ_iV_G6eLuR"
      },
      "execution_count": null,
      "outputs": []
    },
    {
      "cell_type": "code",
      "source": [
        "x_val, x_test_fin, y_val, y_test_fin = train_test_split(\n",
        "    x_test, y_test, test_size=0.9, random_state=42\n",
        ")"
      ],
      "metadata": {
        "id": "Al4mS_dWbJ62"
      },
      "execution_count": null,
      "outputs": []
    },
    {
      "cell_type": "markdown",
      "source": [
        "## **Convert to tensors**\n",
        "\n",
        "To be a suitable input."
      ],
      "metadata": {
        "id": "J9Vj8PKWaMCa"
      }
    },
    {
      "cell_type": "code",
      "source": [
        "x_train_tensor = torch.tensor(x_train, dtype=torch.long)\n",
        "y_train_tensor = torch.tensor(y_train, dtype=torch.float32)\n",
        "\n",
        "x_val_tensor = torch.tensor(x_val, dtype=torch.long)\n",
        "y_val_tensor = torch.tensor(y_val, dtype=torch.float32)\n",
        "\n",
        "x_test_tensor = torch.tensor(x_test_fin, dtype=torch.long)\n",
        "y_test_tensor = torch.tensor(y_test_fin, dtype=torch.float32)"
      ],
      "metadata": {
        "id": "dB8EhQUpeqi4"
      },
      "execution_count": null,
      "outputs": []
    },
    {
      "cell_type": "code",
      "source": [
        "print(f\"x_train_tensor shape: {x_train_tensor.shape}\")\n",
        "print(f\"y_train_tensor shape: {y_train_tensor.shape}\")\n",
        "print(f\"x_val_tensor shape: {x_val_tensor.shape}\")\n",
        "print(f\"y_val_tensor shape: {y_val_tensor.shape}\")\n",
        "print(f\"x_test_tensor shape: {x_test_tensor.shape}\")\n",
        "print(f\"y_test_tensor shape: {y_test_tensor.shape}\")"
      ],
      "metadata": {
        "colab": {
          "base_uri": "https://localhost:8080/"
        },
        "id": "zujciVPoe0ec",
        "outputId": "8c743322-562a-443c-b4a0-482d10ee6b4b"
      },
      "execution_count": null,
      "outputs": [
        {
          "output_type": "stream",
          "name": "stdout",
          "text": [
            "x_train_tensor shape: torch.Size([34650, 300])\n",
            "y_train_tensor shape: torch.Size([34650])\n",
            "x_val_tensor shape: torch.Size([385, 300])\n",
            "y_val_tensor shape: torch.Size([385])\n",
            "x_test_tensor shape: torch.Size([3466, 300])\n",
            "y_test_tensor shape: torch.Size([3466])\n"
          ]
        }
      ]
    },
    {
      "cell_type": "markdown",
      "source": [
        "# **1-Model Definition**\n",
        "\n",
        "This section defines the necessary building blocks like positional encoding, feed-forward layers, and the transformer-based sentiment model."
      ],
      "metadata": {
        "id": "EplNp7m5alVr"
      }
    },
    {
      "cell_type": "code",
      "source": [
        "def get_mask(x, num_heads):\n",
        "    # Create a mask where padding tokens (value 0) are marked as True\n",
        "    # Shape: (batch_size, seq_length)\n",
        "    pad_mask = (x == 0).float()\n",
        "\n",
        "    # Expand to (batch_size, 1, 1, seq_length) to align with MultiheadAttention requirements\n",
        "    attn_mask = pad_mask.unsqueeze(1).unsqueeze(2)  # Shape: (batch_size, 1, 1, seq_length)\n",
        "\n",
        "    # Expand for multi-head attention and set invalid positions to -inf\n",
        "    attn_mask = attn_mask.expand(-1, num_heads, x.size(1), -1)  # Shape: (batch_size, num_heads, seq_length, seq_length)\n",
        "\n",
        "    attn_mask = attn_mask.reshape(-1, x.size(1), x.size(1)) * -1e9  # Shape: (batch_size * num_heads, seq_length, seq_length)\n",
        "\n",
        "    return attn_mask"
      ],
      "metadata": {
        "id": "uZtI74lNROPp"
      },
      "execution_count": null,
      "outputs": []
    },
    {
      "cell_type": "markdown",
      "source": [
        "## **Positional Encoding**"
      ],
      "metadata": {
        "id": "FqRsr1TBaw2y"
      }
    },
    {
      "cell_type": "code",
      "source": [
        "class PositionalEncoding(nn.Module):\n",
        "\n",
        "    def __init__(self, d_model, max_sequence_length):\n",
        "        super().__init__()\n",
        "        self.max_sequence_length = max_sequence_length\n",
        "        self.d_model = d_model\n",
        "\n",
        "    def forward(self):\n",
        "        even_i = torch.arange(0, self.d_model, 2).float()\n",
        "        denominator = torch.pow(10000, even_i/self.d_model)\n",
        "        position = torch.arange(self.max_sequence_length).reshape(self.max_sequence_length, 1)\n",
        "        even_PE = torch.sin(position / denominator)\n",
        "        odd_PE = torch.cos(position / denominator)\n",
        "        stacked = torch.stack([even_PE, odd_PE], dim=2)\n",
        "        PE = torch.flatten(stacked, start_dim=1, end_dim=2)\n",
        "        return PE"
      ],
      "metadata": {
        "id": "jrhdY8cuKcB1"
      },
      "execution_count": null,
      "outputs": []
    },
    {
      "cell_type": "markdown",
      "source": [
        "## **Positionwise Feed-Forward Layer**"
      ],
      "metadata": {
        "id": "tlFefUtZa36S"
      }
    },
    {
      "cell_type": "code",
      "source": [
        "class PositionwiseFeedForward(nn.Module):\n",
        "\n",
        "    def __init__(self, d_model, hidden, drop_prob=0.1):\n",
        "        super(PositionwiseFeedForward, self).__init__()\n",
        "        self.linear1 = nn.Linear(d_model, hidden)\n",
        "        self.linear2 = nn.Linear(hidden, d_model)\n",
        "        self.relu = nn.ReLU()\n",
        "        self.dropout = nn.Dropout(p=drop_prob)\n",
        "\n",
        "    def forward(self, x):\n",
        "        x = self.linear1(x)\n",
        "        x = self.relu(x)\n",
        "        x = self.dropout(x)\n",
        "        x = self.linear2(x)\n",
        "        return x"
      ],
      "metadata": {
        "id": "MbMdEZz9KbsO"
      },
      "execution_count": null,
      "outputs": []
    },
    {
      "cell_type": "markdown",
      "source": [
        "## **Encoder Layer**"
      ],
      "metadata": {
        "id": "__t-5Dp4a6N6"
      }
    },
    {
      "cell_type": "code",
      "source": [
        "class EncoderLayer(nn.Module):\n",
        "\n",
        "    def __init__(self, d_model, ffn_hidden, num_heads, drop_prob):\n",
        "        super(EncoderLayer, self).__init__()\n",
        "        self.attention = torch.nn.MultiheadAttention(\n",
        "            num_heads=num_heads,\n",
        "            embed_dim=d_model,\n",
        "            batch_first=True,\n",
        "            dropout=drop_prob\n",
        "        )\n",
        "        self.norm1 = nn.LayerNorm(d_model)\n",
        "        self.dropout1 = nn.Dropout(p=drop_prob)\n",
        "        self.ffn = PositionwiseFeedForward(d_model=d_model, hidden=ffn_hidden, drop_prob=drop_prob)\n",
        "        self.norm2 = nn.LayerNorm(d_model)\n",
        "        self.dropout2 = nn.Dropout(p=drop_prob)\n",
        "\n",
        "    def forward(self, x, self_attention_mask = None):\n",
        "        residual_x = x\n",
        "        if self_attention_mask is not None:\n",
        "            x = self.attention(query=x, key=x, value=x, attn_mask=self_attention_mask, need_weights=False)[0]\n",
        "        else:\n",
        "            x = self.attention(query=x, key=x, value=x, need_weights=False)[0]\n",
        "        x = self.dropout1(x)\n",
        "        x = self.norm1(x + residual_x)\n",
        "        residual_x = x\n",
        "        x = self.ffn(x)\n",
        "        x = self.dropout2(x)\n",
        "        x = self.norm2(x + residual_x)\n",
        "        return x"
      ],
      "metadata": {
        "id": "BiUU_tdcL-wn"
      },
      "execution_count": null,
      "outputs": []
    },
    {
      "cell_type": "markdown",
      "source": [
        "## **Sentence Embedding**"
      ],
      "metadata": {
        "id": "m7WE7abTbs6Y"
      }
    },
    {
      "cell_type": "code",
      "source": [
        "class SentenceEmbedding(nn.Module):\n",
        "    def __init__(self, max_sequence_length, d_model,vocab_size,device=\"cpu\"):\n",
        "        super().__init__()\n",
        "        self.vocab_size = vocab_size\n",
        "        self.max_sequence_length = max_sequence_length\n",
        "        self.embedding = nn.Embedding(self.vocab_size, d_model)\n",
        "        self.position_encoder = PositionalEncoding(d_model, max_sequence_length)\n",
        "        self.dropout = nn.Dropout(p=0.1)\n",
        "        self.device = device\n",
        "\n",
        "    def forward(self, x):\n",
        "        x = self.embedding(x).to(self.device)\n",
        "        pos = self.position_encoder().to(self.device)\n",
        "        x = self.dropout(x + pos)\n",
        "        return x"
      ],
      "metadata": {
        "id": "8bfNkfTMTC41"
      },
      "execution_count": null,
      "outputs": []
    },
    {
      "cell_type": "markdown",
      "source": [
        "## **Sentiment Model**"
      ],
      "metadata": {
        "id": "0Z8wFSkEbyT6"
      }
    },
    {
      "cell_type": "code",
      "source": [
        "class SentimentModel(torch.nn.Module):\n",
        "    def __init__(self, vocab_size, num_heads, d_model, ffn_hidden, drop_prob, encoder_blocks,max_sequence_length,device=\"cpu\"):\n",
        "        self.device = device\n",
        "        super().__init__()\n",
        "        self.num_heads = num_heads\n",
        "        self.d_model = d_model\n",
        "        self.SentenceEmbedding = SentenceEmbedding(max_sequence_length = max_sequence_length, d_model = d_model,vocab_size = vocab_size,device=device ).to(device)\n",
        "        self.Encoder_model = torch.nn.ModuleList([\n",
        "            EncoderLayer(d_model, ffn_hidden, num_heads, drop_prob)\n",
        "            for _ in range(encoder_blocks)\n",
        "        ]).to(device)\n",
        "        self.final_linear = torch.nn.Linear(in_features=d_model, out_features=1).to(device)\n",
        "\n",
        "    def forward(self, x):\n",
        "        x = x.to(self.device).detach()\n",
        "        Encoder_mask = get_mask(x, num_heads=self.num_heads).to(self.device)\n",
        "        attn_mask = Encoder_mask.to(self.device)\n",
        "        inputs = self.SentenceEmbedding(x)\n",
        "        hidden = inputs\n",
        "        for block in self.Encoder_model:\n",
        "            hidden = block(hidden, self_attention_mask=attn_mask)\n",
        "\n",
        "        hidden = torch.mean(hidden, dim=1, keepdim=False)\n",
        "\n",
        "        Encoder_outputs = torch.sigmoid(self.final_linear(hidden))\n",
        "\n",
        "        return Encoder_outputs"
      ],
      "metadata": {
        "id": "I26kOWPXNqfw"
      },
      "execution_count": null,
      "outputs": []
    },
    {
      "cell_type": "markdown",
      "source": [
        "# **3-Training and Validation**\n",
        "This section handles the training loop and validation."
      ],
      "metadata": {
        "id": "ce4c0Prqb8bF"
      }
    },
    {
      "cell_type": "code",
      "source": [
        "device = \"cuda\"\n",
        "d_model = 16\n",
        "ffn_hidden = 2048\n",
        "num_heads = 8\n",
        "lr = 0.001\n",
        "drop_prob = 0.3\n",
        "encoder_blocks = 2\n",
        "\n",
        "x_train_device = x_train_tensor.to(device)\n",
        "y_train_device = torch.FloatTensor(y_train_tensor).unsqueeze(1).to(device)\n",
        "x_val_device = x_val_tensor.to(device)\n",
        "y_val_device = torch.FloatTensor(y_val_tensor).unsqueeze(1).to(device)\n",
        "x_test_device = x_test_tensor.to(device)\n",
        "y_test_device = torch.FloatTensor(y_test_tensor).unsqueeze(1).to(device)"
      ],
      "metadata": {
        "id": "-GImggH9e8eq"
      },
      "execution_count": null,
      "outputs": []
    },
    {
      "cell_type": "markdown",
      "source": [
        "## **Initialize model, criterion, and optimizer**"
      ],
      "metadata": {
        "id": "TOrVnJQ6cIwZ"
      }
    },
    {
      "cell_type": "code",
      "source": [
        "model = SentimentModel(vocab_size= max_vocab_size,num_heads=num_heads,d_model=d_model,ffn_hidden=ffn_hidden,drop_prob=drop_prob,\n",
        "                       encoder_blocks=encoder_blocks,\n",
        "                       max_sequence_length=max_sequence_length,\n",
        "                       device=device)\n",
        "\n",
        "criterion = torch.nn.BCELoss().to(device)\n",
        "opt = torch.optim.Adam(model.parameters(), lr=lr)"
      ],
      "metadata": {
        "id": "rnKnThARQHtA"
      },
      "execution_count": null,
      "outputs": []
    },
    {
      "cell_type": "markdown",
      "source": [
        "## **Create DataLoaders**"
      ],
      "metadata": {
        "id": "PRY-2u3DcEOc"
      }
    },
    {
      "cell_type": "code",
      "source": [
        "from torch.utils.data import DataLoader, TensorDataset\n",
        "\n",
        "# Create DataLoaders for batching\n",
        "batch_size = 256\n",
        "train_dataset = TensorDataset(x_train_device, y_train_device)\n",
        "val_dataset = TensorDataset(x_val_device, y_val_device)\n",
        "train_loader = DataLoader(train_dataset, batch_size=batch_size, shuffle=True)\n",
        "val_loader = DataLoader(val_dataset, batch_size=batch_size, shuffle=False)"
      ],
      "metadata": {
        "id": "vgnKkRR2hZaZ"
      },
      "execution_count": null,
      "outputs": []
    },
    {
      "cell_type": "code",
      "source": [
        "from tqdm import tqdm"
      ],
      "metadata": {
        "id": "4CHApK5Ml7Iy"
      },
      "execution_count": null,
      "outputs": []
    },
    {
      "cell_type": "markdown",
      "source": [
        "## **Training Loop**"
      ],
      "metadata": {
        "id": "i7Id6PERcPP2"
      }
    },
    {
      "cell_type": "code",
      "source": [
        "# Initialize lists to store metrics\n",
        "train_losses = []\n",
        "val_losses = []\n",
        "train_accuracies = []\n",
        "val_accuracies = []\n",
        "\n",
        "epochs = 20\n",
        "best_val_loss = float('inf')\n",
        "model_save_path = \"sentiment_model_18.pth\"\n",
        "\n",
        "for epoch in range(epochs):\n",
        "    model.train()\n",
        "    train_loss = 0.0\n",
        "    train_correct = 0\n",
        "    total_train_samples = 0\n",
        "\n",
        "    for x_batch, y_batch in tqdm(train_loader, desc=f\"Epoch {epoch+1}/{epochs} - Training\"):\n",
        "        outputs = model(x_batch)\n",
        "        loss = criterion(outputs, y_batch)\n",
        "        opt.zero_grad()\n",
        "        loss.backward()\n",
        "        opt.step()\n",
        "\n",
        "        train_loss += loss.item() * x_batch.size(0)\n",
        "        predictions = (outputs >= 0.5).float()\n",
        "        train_correct += (predictions == y_batch).sum().item()\n",
        "        total_train_samples += x_batch.size(0)\n",
        "\n",
        "    train_loss /= total_train_samples\n",
        "    train_accuracy = train_correct / total_train_samples\n",
        "    train_losses.append(train_loss)\n",
        "    train_accuracies.append(train_accuracy)\n",
        "\n",
        "    model.eval()\n",
        "    val_loss = 0.0\n",
        "    val_correct = 0\n",
        "    total_val_samples = 0\n",
        "    with torch.no_grad():\n",
        "        for x_batch, y_batch in tqdm(val_loader, desc=f\"Epoch {epoch+1}/{epochs} - Validation\"):\n",
        "            outputs = model(x_batch)\n",
        "            loss = criterion(outputs, y_batch)\n",
        "\n",
        "            val_loss += loss.item() * x_batch.size(0)\n",
        "            predictions = (outputs >= 0.5).float()\n",
        "            val_correct += (predictions == y_batch).sum().item()\n",
        "            total_val_samples += x_batch.size(0)\n",
        "\n",
        "    val_loss /= total_val_samples\n",
        "    val_accuracy = val_correct / total_val_samples\n",
        "    val_losses.append(val_loss)\n",
        "    val_accuracies.append(val_accuracy)\n",
        "\n",
        "    print(f\"Epoch {epoch+1}/{epochs}\")\n",
        "    print(f\"Train Loss: {train_loss:.4f}, Train Accuracy: {train_accuracy:.4f}\")\n",
        "    print(f\"Val Loss: {val_loss:.4f}, Val Accuracy: {val_accuracy:.4f}\")\n",
        "\n",
        "    if val_loss < best_val_loss:\n",
        "        best_val_loss = val_loss\n",
        "        torch.save(model.state_dict(), model_save_path)\n",
        "        print(f\"Model saved to {model_save_path} with Val Loss: {best_val_loss:.4f}\")\n",
        "\n",
        "print(\"Training complete!\")\n"
      ],
      "metadata": {
        "colab": {
          "base_uri": "https://localhost:8080/"
        },
        "id": "iCm1iSB3haxw",
        "outputId": "4cc868fe-2333-4dcb-80fb-68d4060b8c6f"
      },
      "execution_count": null,
      "outputs": [
        {
          "output_type": "stream",
          "name": "stderr",
          "text": [
            "Epoch 1/20 - Training: 100%|██████████| 136/136 [00:36<00:00,  3.74it/s]\n",
            "Epoch 1/20 - Validation: 100%|██████████| 2/2 [00:00<00:00, 15.08it/s]\n"
          ]
        },
        {
          "output_type": "stream",
          "name": "stdout",
          "text": [
            "Epoch 1/20\n",
            "Train Loss: 0.6982, Train Accuracy: 0.5020\n",
            "Val Loss: 0.6896, Val Accuracy: 0.5377\n",
            "Model saved to sentiment_model_18.pth with Val Loss: 0.6896\n"
          ]
        },
        {
          "output_type": "stream",
          "name": "stderr",
          "text": [
            "Epoch 2/20 - Training: 100%|██████████| 136/136 [00:36<00:00,  3.71it/s]\n",
            "Epoch 2/20 - Validation: 100%|██████████| 2/2 [00:00<00:00, 15.36it/s]\n"
          ]
        },
        {
          "output_type": "stream",
          "name": "stdout",
          "text": [
            "Epoch 2/20\n",
            "Train Loss: 0.6751, Train Accuracy: 0.5554\n",
            "Val Loss: 0.6164, Val Accuracy: 0.6701\n",
            "Model saved to sentiment_model_18.pth with Val Loss: 0.6164\n"
          ]
        },
        {
          "output_type": "stream",
          "name": "stderr",
          "text": [
            "Epoch 3/20 - Training: 100%|██████████| 136/136 [00:36<00:00,  3.75it/s]\n",
            "Epoch 3/20 - Validation: 100%|██████████| 2/2 [00:00<00:00, 15.17it/s]\n"
          ]
        },
        {
          "output_type": "stream",
          "name": "stdout",
          "text": [
            "Epoch 3/20\n",
            "Train Loss: 0.5100, Train Accuracy: 0.7520\n",
            "Val Loss: 0.4640, Val Accuracy: 0.8104\n",
            "Model saved to sentiment_model_18.pth with Val Loss: 0.4640\n"
          ]
        },
        {
          "output_type": "stream",
          "name": "stderr",
          "text": [
            "Epoch 4/20 - Training: 100%|██████████| 136/136 [00:36<00:00,  3.73it/s]\n",
            "Epoch 4/20 - Validation: 100%|██████████| 2/2 [00:00<00:00, 15.30it/s]\n"
          ]
        },
        {
          "output_type": "stream",
          "name": "stdout",
          "text": [
            "Epoch 4/20\n",
            "Train Loss: 0.4064, Train Accuracy: 0.8176\n",
            "Val Loss: 0.3598, Val Accuracy: 0.8519\n",
            "Model saved to sentiment_model_18.pth with Val Loss: 0.3598\n"
          ]
        },
        {
          "output_type": "stream",
          "name": "stderr",
          "text": [
            "Epoch 5/20 - Training: 100%|██████████| 136/136 [00:36<00:00,  3.74it/s]\n",
            "Epoch 5/20 - Validation: 100%|██████████| 2/2 [00:00<00:00, 14.68it/s]\n"
          ]
        },
        {
          "output_type": "stream",
          "name": "stdout",
          "text": [
            "Epoch 5/20\n",
            "Train Loss: 0.3531, Train Accuracy: 0.8481\n",
            "Val Loss: 0.3331, Val Accuracy: 0.8779\n",
            "Model saved to sentiment_model_18.pth with Val Loss: 0.3331\n"
          ]
        },
        {
          "output_type": "stream",
          "name": "stderr",
          "text": [
            "Epoch 6/20 - Training: 100%|██████████| 136/136 [00:36<00:00,  3.73it/s]\n",
            "Epoch 6/20 - Validation: 100%|██████████| 2/2 [00:00<00:00, 15.21it/s]\n"
          ]
        },
        {
          "output_type": "stream",
          "name": "stdout",
          "text": [
            "Epoch 6/20\n",
            "Train Loss: 0.3232, Train Accuracy: 0.8623\n",
            "Val Loss: 0.3219, Val Accuracy: 0.8857\n",
            "Model saved to sentiment_model_18.pth with Val Loss: 0.3219\n"
          ]
        },
        {
          "output_type": "stream",
          "name": "stderr",
          "text": [
            "Epoch 7/20 - Training: 100%|██████████| 136/136 [00:36<00:00,  3.73it/s]\n",
            "Epoch 7/20 - Validation: 100%|██████████| 2/2 [00:00<00:00, 15.10it/s]\n"
          ]
        },
        {
          "output_type": "stream",
          "name": "stdout",
          "text": [
            "Epoch 7/20\n",
            "Train Loss: 0.2994, Train Accuracy: 0.8752\n",
            "Val Loss: 0.2960, Val Accuracy: 0.8779\n",
            "Model saved to sentiment_model_18.pth with Val Loss: 0.2960\n"
          ]
        },
        {
          "output_type": "stream",
          "name": "stderr",
          "text": [
            "Epoch 8/20 - Training: 100%|██████████| 136/136 [00:36<00:00,  3.74it/s]\n",
            "Epoch 8/20 - Validation: 100%|██████████| 2/2 [00:00<00:00, 15.25it/s]\n"
          ]
        },
        {
          "output_type": "stream",
          "name": "stdout",
          "text": [
            "Epoch 8/20\n",
            "Train Loss: 0.2847, Train Accuracy: 0.8815\n",
            "Val Loss: 0.3009, Val Accuracy: 0.8805\n"
          ]
        },
        {
          "output_type": "stream",
          "name": "stderr",
          "text": [
            "Epoch 9/20 - Training: 100%|██████████| 136/136 [00:36<00:00,  3.74it/s]\n",
            "Epoch 9/20 - Validation: 100%|██████████| 2/2 [00:00<00:00, 15.32it/s]\n"
          ]
        },
        {
          "output_type": "stream",
          "name": "stdout",
          "text": [
            "Epoch 9/20\n",
            "Train Loss: 0.2684, Train Accuracy: 0.8890\n",
            "Val Loss: 0.2988, Val Accuracy: 0.8831\n"
          ]
        },
        {
          "output_type": "stream",
          "name": "stderr",
          "text": [
            "Epoch 10/20 - Training: 100%|██████████| 136/136 [00:36<00:00,  3.74it/s]\n",
            "Epoch 10/20 - Validation: 100%|██████████| 2/2 [00:00<00:00, 14.74it/s]\n"
          ]
        },
        {
          "output_type": "stream",
          "name": "stdout",
          "text": [
            "Epoch 10/20\n",
            "Train Loss: 0.2544, Train Accuracy: 0.8971\n",
            "Val Loss: 0.2853, Val Accuracy: 0.8987\n",
            "Model saved to sentiment_model_18.pth with Val Loss: 0.2853\n"
          ]
        },
        {
          "output_type": "stream",
          "name": "stderr",
          "text": [
            "Epoch 11/20 - Training: 100%|██████████| 136/136 [00:36<00:00,  3.74it/s]\n",
            "Epoch 11/20 - Validation: 100%|██████████| 2/2 [00:00<00:00, 14.91it/s]\n"
          ]
        },
        {
          "output_type": "stream",
          "name": "stdout",
          "text": [
            "Epoch 11/20\n",
            "Train Loss: 0.2419, Train Accuracy: 0.9018\n",
            "Val Loss: 0.3000, Val Accuracy: 0.8961\n"
          ]
        },
        {
          "output_type": "stream",
          "name": "stderr",
          "text": [
            "Epoch 12/20 - Training: 100%|██████████| 136/136 [00:36<00:00,  3.74it/s]\n",
            "Epoch 12/20 - Validation: 100%|██████████| 2/2 [00:00<00:00, 15.34it/s]\n"
          ]
        },
        {
          "output_type": "stream",
          "name": "stdout",
          "text": [
            "Epoch 12/20\n",
            "Train Loss: 0.2311, Train Accuracy: 0.9083\n",
            "Val Loss: 0.2844, Val Accuracy: 0.9013\n",
            "Model saved to sentiment_model_18.pth with Val Loss: 0.2844\n"
          ]
        },
        {
          "output_type": "stream",
          "name": "stderr",
          "text": [
            "Epoch 13/20 - Training: 100%|██████████| 136/136 [00:36<00:00,  3.74it/s]\n",
            "Epoch 13/20 - Validation: 100%|██████████| 2/2 [00:00<00:00, 15.42it/s]\n"
          ]
        },
        {
          "output_type": "stream",
          "name": "stdout",
          "text": [
            "Epoch 13/20\n",
            "Train Loss: 0.2235, Train Accuracy: 0.9105\n",
            "Val Loss: 0.2954, Val Accuracy: 0.9013\n"
          ]
        },
        {
          "output_type": "stream",
          "name": "stderr",
          "text": [
            "Epoch 14/20 - Training: 100%|██████████| 136/136 [00:36<00:00,  3.75it/s]\n",
            "Epoch 14/20 - Validation: 100%|██████████| 2/2 [00:00<00:00, 15.41it/s]\n"
          ]
        },
        {
          "output_type": "stream",
          "name": "stdout",
          "text": [
            "Epoch 14/20\n",
            "Train Loss: 0.2154, Train Accuracy: 0.9154\n",
            "Val Loss: 0.2921, Val Accuracy: 0.8987\n"
          ]
        },
        {
          "output_type": "stream",
          "name": "stderr",
          "text": [
            "Epoch 15/20 - Training: 100%|██████████| 136/136 [00:36<00:00,  3.75it/s]\n",
            "Epoch 15/20 - Validation: 100%|██████████| 2/2 [00:00<00:00, 15.21it/s]\n"
          ]
        },
        {
          "output_type": "stream",
          "name": "stdout",
          "text": [
            "Epoch 15/20\n",
            "Train Loss: 0.2079, Train Accuracy: 0.9186\n",
            "Val Loss: 0.3007, Val Accuracy: 0.9039\n"
          ]
        },
        {
          "output_type": "stream",
          "name": "stderr",
          "text": [
            "Epoch 16/20 - Training: 100%|██████████| 136/136 [00:36<00:00,  3.75it/s]\n",
            "Epoch 16/20 - Validation: 100%|██████████| 2/2 [00:00<00:00, 14.96it/s]\n"
          ]
        },
        {
          "output_type": "stream",
          "name": "stdout",
          "text": [
            "Epoch 16/20\n",
            "Train Loss: 0.1989, Train Accuracy: 0.9226\n",
            "Val Loss: 0.3037, Val Accuracy: 0.9013\n"
          ]
        },
        {
          "output_type": "stream",
          "name": "stderr",
          "text": [
            "Epoch 17/20 - Training: 100%|██████████| 136/136 [00:36<00:00,  3.72it/s]\n",
            "Epoch 17/20 - Validation: 100%|██████████| 2/2 [00:00<00:00, 14.76it/s]\n"
          ]
        },
        {
          "output_type": "stream",
          "name": "stdout",
          "text": [
            "Epoch 17/20\n",
            "Train Loss: 0.1898, Train Accuracy: 0.9274\n",
            "Val Loss: 0.3080, Val Accuracy: 0.8961\n"
          ]
        },
        {
          "output_type": "stream",
          "name": "stderr",
          "text": [
            "Epoch 18/20 - Training: 100%|██████████| 136/136 [00:36<00:00,  3.76it/s]\n",
            "Epoch 18/20 - Validation: 100%|██████████| 2/2 [00:00<00:00, 15.25it/s]\n"
          ]
        },
        {
          "output_type": "stream",
          "name": "stdout",
          "text": [
            "Epoch 18/20\n",
            "Train Loss: 0.1841, Train Accuracy: 0.9298\n",
            "Val Loss: 0.3067, Val Accuracy: 0.8987\n"
          ]
        },
        {
          "output_type": "stream",
          "name": "stderr",
          "text": [
            "Epoch 19/20 - Training: 100%|██████████| 136/136 [00:36<00:00,  3.75it/s]\n",
            "Epoch 19/20 - Validation: 100%|██████████| 2/2 [00:00<00:00, 15.24it/s]\n"
          ]
        },
        {
          "output_type": "stream",
          "name": "stdout",
          "text": [
            "Epoch 19/20\n",
            "Train Loss: 0.1787, Train Accuracy: 0.9322\n",
            "Val Loss: 0.3065, Val Accuracy: 0.8987\n"
          ]
        },
        {
          "output_type": "stream",
          "name": "stderr",
          "text": [
            "Epoch 20/20 - Training: 100%|██████████| 136/136 [00:36<00:00,  3.74it/s]\n",
            "Epoch 20/20 - Validation: 100%|██████████| 2/2 [00:00<00:00, 15.19it/s]"
          ]
        },
        {
          "output_type": "stream",
          "name": "stdout",
          "text": [
            "Epoch 20/20\n",
            "Train Loss: 0.1749, Train Accuracy: 0.9324\n",
            "Val Loss: 0.3075, Val Accuracy: 0.9013\n",
            "Training complete!\n"
          ]
        },
        {
          "output_type": "stream",
          "name": "stderr",
          "text": [
            "\n"
          ]
        }
      ]
    },
    {
      "cell_type": "markdown",
      "source": [
        "Plot training and validation loss and plot training and validation accuracy."
      ],
      "metadata": {
        "id": "atde11u0cZTb"
      }
    },
    {
      "cell_type": "code",
      "source": [
        "import matplotlib.pyplot as plt\n",
        "# Plot training and validation loss\n",
        "plt.figure(figsize=(12, 6))\n",
        "plt.plot(range(1, epochs+1), train_losses, label='Train Loss', marker='o')\n",
        "plt.plot(range(1, epochs+1), val_losses, label='Validation Loss', marker='o')\n",
        "plt.title('Training and Validation Loss')\n",
        "plt.xlabel('Epochs')\n",
        "plt.ylabel('Loss')\n",
        "plt.legend()\n",
        "plt.grid()\n",
        "plt.show()\n",
        "\n",
        "# Plot training and validation accuracy\n",
        "plt.figure(figsize=(12, 6))\n",
        "plt.plot(range(1, epochs+1), train_accuracies, label='Train Accuracy', marker='o')\n",
        "plt.plot(range(1, epochs+1), val_accuracies, label='Validation Accuracy', marker='o')\n",
        "plt.title('Training and Validation Accuracy')\n",
        "plt.xlabel('Epochs')\n",
        "plt.ylabel('Accuracy')\n",
        "plt.legend()\n",
        "plt.grid()\n",
        "plt.show()\n"
      ],
      "metadata": {
        "colab": {
          "base_uri": "https://localhost:8080/",
          "height": 1000
        },
        "id": "1UNbkN-OjZWx",
        "outputId": "a98644ae-d715-40ca-b94d-04972d12614d"
      },
      "execution_count": null,
      "outputs": [
        {
          "output_type": "display_data",
          "data": {
            "text/plain": [
              "<Figure size 1200x600 with 1 Axes>"
            ],
            "image/png": "[encoded data removed]"
          },
          "metadata": {}
        },
        {
          "output_type": "display_data",
          "data": {
            "text/plain": [
              "<Figure size 1200x600 with 1 Axes>"
            ],
            "image/png": "[encoded data removed]"
          },
          "metadata": {}
        }
      ]
    },
    {
      "cell_type": "markdown",
      "source": [
        "# **4-Evaluation**\n",
        "\n",
        "This section handles evaluating the model's performance on the test set."
      ],
      "metadata": {
        "id": "ceKQP1Iscq3x"
      }
    },
    {
      "cell_type": "code",
      "source": [
        "model.eval()\n",
        "\n",
        "test_loss = 0.0\n",
        "test_correct = 0\n",
        "total_test_samples = 0\n",
        "\n",
        "all_predictions = []\n",
        "all_labels = []\n",
        "\n",
        "with torch.no_grad():\n",
        "    for x_batch, y_batch in tqdm(DataLoader(TensorDataset(x_test_device, y_test_device), batch_size=256), desc=\"Testing\"):\n",
        "\n",
        "        outputs = model(x_batch)\n",
        "        loss = criterion(outputs, y_batch)\n",
        "\n",
        "\n",
        "        test_loss += loss.item() * x_batch.size(0)\n",
        "        predictions = (outputs >= 0.5).float()\n",
        "        test_correct += (predictions == y_batch).sum().item()\n",
        "        total_test_samples += x_batch.size(0)\n",
        "\n",
        "\n",
        "        all_predictions.extend(predictions.cpu().numpy().flatten())\n",
        "        all_labels.extend(y_batch.cpu().numpy().flatten())\n",
        "\n",
        "\n",
        "test_loss /= total_test_samples\n",
        "test_accuracy = test_correct / total_test_samples\n",
        "\n",
        "print(f\"Test Loss: {test_loss:.4f}\")\n",
        "print(f\"Test Accuracy: {test_accuracy:.4f}\")"
      ],
      "metadata": {
        "colab": {
          "base_uri": "https://localhost:8080/"
        },
        "id": "2AxNnqJ-mV-V",
        "outputId": "d770b504-4fd2-4980-cf49-04eb6f302bee"
      },
      "execution_count": null,
      "outputs": [
        {
          "output_type": "stream",
          "name": "stderr",
          "text": [
            "Testing: 100%|██████████| 14/14 [00:01<00:00, 11.35it/s]"
          ]
        },
        {
          "output_type": "stream",
          "name": "stdout",
          "text": [
            "Test Loss: 0.3141\n",
            "Test Accuracy: 0.8837\n"
          ]
        },
        {
          "output_type": "stream",
          "name": "stderr",
          "text": [
            "\n"
          ]
        }
      ]
    },
    {
      "cell_type": "code",
      "source": [
        "from sklearn.metrics import confusion_matrix, f1_score, precision_score, recall_score"
      ],
      "metadata": {
        "id": "Hm-CLPODDnOq"
      },
      "execution_count": null,
      "outputs": []
    },
    {
      "cell_type": "markdown",
      "source": [
        "## **Compute confusion matrix and F1 score**"
      ],
      "metadata": {
        "id": "mrZTAssoc_Ep"
      }
    },
    {
      "cell_type": "code",
      "source": [
        "conf_matrix = confusion_matrix(all_labels, all_predictions)\n",
        "f1 = f1_score(all_labels, all_predictions)\n",
        "precision = precision_score(all_labels, all_predictions)\n",
        "recall = recall_score(all_labels, all_predictions)\n",
        "\n",
        "print(\"\\nConfusion Matrix:\")\n",
        "print(conf_matrix)\n",
        "\n",
        "print(f\"\\nF1 Score: {f1:.4f}\")\n",
        "print(f\"Precision: {precision:.4f}\")\n",
        "print(f\"Recall: {recall:.4f}\")"
      ],
      "metadata": {
        "colab": {
          "base_uri": "https://localhost:8080/"
        },
        "id": "y4dTYPimmV25",
        "outputId": "5bae8e96-e9aa-4b71-d3cd-f77c57ac1011"
      },
      "execution_count": null,
      "outputs": [
        {
          "output_type": "stream",
          "name": "stdout",
          "text": [
            "\n",
            "Confusion Matrix:\n",
            "[[1482  228]\n",
            " [ 175 1581]]\n",
            "\n",
            "F1 Score: 0.8870\n",
            "Precision: 0.8740\n",
            "Recall: 0.9003\n"
          ]
        }
      ]
    },
    {
      "cell_type": "markdown",
      "source": [
        "This function is used to get one sentence then use the model to predect the label positive or negative."
      ],
      "metadata": {
        "id": "C9SEOk9AdCnD"
      }
    },
    {
      "cell_type": "code",
      "source": [
        "def one_review(model, x_test, x_test_sentence, y_test, criterion):\n",
        "    model = model\n",
        "    review = x_test_sentence\n",
        "    label = y_test\n",
        "    criterion = criterion\n",
        "    input = x_test\n",
        "\n",
        "    input = input.unsqueeze(0)  # Add a batch dimension\n",
        "\n",
        "    model.eval()\n",
        "    with torch.no_grad():\n",
        "        outputs = model(input)\n",
        "\n",
        "        outputs = outputs.squeeze(1)  # Remove the extra dimension\n",
        "\n",
        "        loss = criterion(outputs, label)\n",
        "        predictions = (outputs >= 0.5).float()\n",
        "\n",
        "        if predictions == 1:\n",
        "            predictions = \"positive\"\n",
        "        else:\n",
        "            predictions = \"negative\"\n",
        "\n",
        "        if label == 1:\n",
        "            label = \"positive\"\n",
        "        else:\n",
        "            label = \"negative\"\n",
        "\n",
        "        print(\"Input sentence is:\")\n",
        "        print(review)\n",
        "        print(\"true label is:\")\n",
        "        print(label)\n",
        "        print(\"predicted label is:\")\n",
        "        print(predictions)"
      ],
      "metadata": {
        "id": "m6kYtACsnBHg"
      },
      "execution_count": null,
      "outputs": []
    },
    {
      "cell_type": "code",
      "source": [
        "sequences = x_test_fin[1]\n",
        "y = y_test_fin[1]\n",
        "decoded = decode_sequence(sequences, word_index)\n",
        "print(decoded)\n",
        "print(y)"
      ],
      "metadata": {
        "colab": {
          "base_uri": "https://localhost:8080/"
        },
        "id": "fnp6AbIrolHS",
        "outputId": "6fff6ccb-92ab-4996-d29d-fe01e92fb649"
      },
      "execution_count": null,
      "outputs": [
        {
          "output_type": "stream",
          "name": "stdout",
          "text": [
            "[START] a show about an incredibly dumb man child and his [OOV] hot wife 99 of the plots revolves around doug doing something unbelievably stupid and then comes a variable a either he hides it from his wife or b tell his wife she him and then it's up to the father in law arthur the typecast character from seinfeld to [OOV] the situation br br and the writers dare to say it was influenced by the [OOV] an absolute classic and that the plots are drawn from real life situations unless you live in a cave you know that's not true br br anyway let's just put it this way if kevin james had been thin the show would have got canceled the pilot if you're 12 or you're fond of fat jokes be my guest watch this show or any of kevin james movies for that matter br br i've noticed some posters compare this travesty to much superior shows like friends seinfeld and everybody loves raymond i'm still wondering how could anyone do that [UNK] [UNK] [UNK] [UNK] [UNK] [UNK] [UNK] [UNK] [UNK] [UNK] [UNK] [UNK] [UNK] [UNK] [UNK] [UNK] [UNK] [UNK] [UNK] [UNK] [UNK] [UNK] [UNK] [UNK] [UNK] [UNK] [UNK] [UNK] [UNK] [UNK] [UNK] [UNK] [UNK] [UNK] [UNK] [UNK] [UNK] [UNK] [UNK] [UNK] [UNK] [UNK] [UNK] [UNK] [UNK] [UNK] [UNK] [UNK] [UNK] [UNK] [UNK] [UNK] [UNK] [UNK] [UNK] [UNK] [UNK] [UNK] [UNK] [UNK] [UNK] [UNK] [UNK] [UNK] [UNK] [UNK] [UNK] [UNK] [UNK] [UNK] [UNK] [UNK] [UNK] [UNK] [UNK] [UNK] [UNK] [UNK] [UNK] [UNK] [UNK] [UNK] [UNK] [UNK] [UNK] [UNK] [UNK] [UNK] [UNK] [UNK] [UNK] [UNK] [UNK] [UNK] [UNK] [UNK] [UNK] [UNK] [UNK] [UNK] [UNK] [UNK] [UNK] [UNK] [UNK] [UNK] [UNK] [UNK] [UNK] [UNK] [UNK] [UNK] [UNK] [UNK] [UNK] [UNK] [UNK] [UNK] [UNK] [UNK] [UNK] [UNK] [UNK]\n",
            "0\n"
          ]
        }
      ]
    },
    {
      "cell_type": "code",
      "source": [
        "one_review(model,x_test_device[1],decoded,y_test_device[1],criterion)"
      ],
      "metadata": {
        "colab": {
          "base_uri": "https://localhost:8080/"
        },
        "id": "aO0NkkQBo-r4",
        "outputId": "be2bf49f-105b-40ac-c8b5-5a44f5b35818"
      },
      "execution_count": null,
      "outputs": [
        {
          "output_type": "stream",
          "name": "stdout",
          "text": [
            "Input sentence is:\n",
            "[START] a show about an incredibly dumb man child and his [OOV] hot wife 99 of the plots revolves around doug doing something unbelievably stupid and then comes a variable a either he hides it from his wife or b tell his wife she him and then it's up to the father in law arthur the typecast character from seinfeld to [OOV] the situation br br and the writers dare to say it was influenced by the [OOV] an absolute classic and that the plots are drawn from real life situations unless you live in a cave you know that's not true br br anyway let's just put it this way if kevin james had been thin the show would have got canceled the pilot if you're 12 or you're fond of fat jokes be my guest watch this show or any of kevin james movies for that matter br br i've noticed some posters compare this travesty to much superior shows like friends seinfeld and everybody loves raymond i'm still wondering how could anyone do that [UNK] [UNK] [UNK] [UNK] [UNK] [UNK] [UNK] [UNK] [UNK] [UNK] [UNK] [UNK] [UNK] [UNK] [UNK] [UNK] [UNK] [UNK] [UNK] [UNK] [UNK] [UNK] [UNK] [UNK] [UNK] [UNK] [UNK] [UNK] [UNK] [UNK] [UNK] [UNK] [UNK] [UNK] [UNK] [UNK] [UNK] [UNK] [UNK] [UNK] [UNK] [UNK] [UNK] [UNK] [UNK] [UNK] [UNK] [UNK] [UNK] [UNK] [UNK] [UNK] [UNK] [UNK] [UNK] [UNK] [UNK] [UNK] [UNK] [UNK] [UNK] [UNK] [UNK] [UNK] [UNK] [UNK] [UNK] [UNK] [UNK] [UNK] [UNK] [UNK] [UNK] [UNK] [UNK] [UNK] [UNK] [UNK] [UNK] [UNK] [UNK] [UNK] [UNK] [UNK] [UNK] [UNK] [UNK] [UNK] [UNK] [UNK] [UNK] [UNK] [UNK] [UNK] [UNK] [UNK] [UNK] [UNK] [UNK] [UNK] [UNK] [UNK] [UNK] [UNK] [UNK] [UNK] [UNK] [UNK] [UNK] [UNK] [UNK] [UNK] [UNK] [UNK] [UNK] [UNK] [UNK] [UNK] [UNK] [UNK] [UNK] [UNK] [UNK]\n",
            "true label is:\n",
            "negative\n",
            "predicted label is:\n",
            "negative\n"
          ]
        }
      ]
    },
    {
      "cell_type": "code",
      "source": [
        "sequences = x_test_fin[2]\n",
        "y = y_test_fin[2]\n",
        "decoded = decode_sequence(sequences, word_index)\n",
        "print(decoded)\n",
        "print(y)"
      ],
      "metadata": {
        "colab": {
          "base_uri": "https://localhost:8080/"
        },
        "id": "vGeWd1r5rGmd",
        "outputId": "4ec9a578-ac42-4e49-f1b7-3712479d7e9d"
      },
      "execution_count": null,
      "outputs": [
        {
          "output_type": "stream",
          "name": "stdout",
          "text": [
            "[START] this documentary was my first introduction to peak oil theory a fascinating concept that has a lot of frightening consequences if it turns out to be correct i had absolutely no idea that the effects of oil [OOV] would come so soon it literally took my breath away this movie will probably open your eyes as to how strongly the american way of life is dependent on the abundance of cheap oil a term used throughout the film a lot of the topics are plain common sense and they don't go into a huge amount of depth about any of them but you've probably never put all the pieces together like this movie does the interviews with the authors and energy experts are all very interesting i don't think this film is meant to scare people it's merely meant to inform people about what to expect in the years ahead and maybe to encourage you to think twice about to work and leaving your lights on all day long br br after watching this film i was no longer able to look at the cars and buses [OOV] by quite the same great documentary everyone should see it [UNK] [UNK] [UNK] [UNK] [UNK] [UNK] [UNK] [UNK] [UNK] [UNK] [UNK] [UNK] [UNK] [UNK] [UNK] [UNK] [UNK] [UNK] [UNK] [UNK] [UNK] [UNK] [UNK] [UNK] [UNK] [UNK] [UNK] [UNK] [UNK] [UNK] [UNK] [UNK] [UNK] [UNK] [UNK] [UNK] [UNK] [UNK] [UNK] [UNK] [UNK] [UNK] [UNK] [UNK] [UNK] [UNK] [UNK] [UNK] [UNK] [UNK] [UNK] [UNK] [UNK] [UNK] [UNK] [UNK] [UNK] [UNK] [UNK] [UNK] [UNK] [UNK] [UNK] [UNK] [UNK] [UNK] [UNK] [UNK] [UNK] [UNK] [UNK] [UNK] [UNK] [UNK] [UNK] [UNK] [UNK] [UNK] [UNK] [UNK] [UNK] [UNK] [UNK] [UNK] [UNK] [UNK] [UNK] [UNK] [UNK] [UNK] [UNK] [UNK] [UNK] [UNK] [UNK] [UNK] [UNK] [UNK] [UNK] [UNK] [UNK]\n",
            "1\n"
          ]
        }
      ]
    },
    {
      "cell_type": "code",
      "source": [
        "one_review(model,x_test_device[2],decoded,y_test_device[2],criterion)"
      ],
      "metadata": {
        "colab": {
          "base_uri": "https://localhost:8080/"
        },
        "id": "rOCyoQO0rEFA",
        "outputId": "754fcb13-27fe-4d74-dea4-6fcadf9f74a2"
      },
      "execution_count": null,
      "outputs": [
        {
          "output_type": "stream",
          "name": "stdout",
          "text": [
            "Input sentence is:\n",
            "[START] this documentary was my first introduction to peak oil theory a fascinating concept that has a lot of frightening consequences if it turns out to be correct i had absolutely no idea that the effects of oil [OOV] would come so soon it literally took my breath away this movie will probably open your eyes as to how strongly the american way of life is dependent on the abundance of cheap oil a term used throughout the film a lot of the topics are plain common sense and they don't go into a huge amount of depth about any of them but you've probably never put all the pieces together like this movie does the interviews with the authors and energy experts are all very interesting i don't think this film is meant to scare people it's merely meant to inform people about what to expect in the years ahead and maybe to encourage you to think twice about to work and leaving your lights on all day long br br after watching this film i was no longer able to look at the cars and buses [OOV] by quite the same great documentary everyone should see it [UNK] [UNK] [UNK] [UNK] [UNK] [UNK] [UNK] [UNK] [UNK] [UNK] [UNK] [UNK] [UNK] [UNK] [UNK] [UNK] [UNK] [UNK] [UNK] [UNK] [UNK] [UNK] [UNK] [UNK] [UNK] [UNK] [UNK] [UNK] [UNK] [UNK] [UNK] [UNK] [UNK] [UNK] [UNK] [UNK] [UNK] [UNK] [UNK] [UNK] [UNK] [UNK] [UNK] [UNK] [UNK] [UNK] [UNK] [UNK] [UNK] [UNK] [UNK] [UNK] [UNK] [UNK] [UNK] [UNK] [UNK] [UNK] [UNK] [UNK] [UNK] [UNK] [UNK] [UNK] [UNK] [UNK] [UNK] [UNK] [UNK] [UNK] [UNK] [UNK] [UNK] [UNK] [UNK] [UNK] [UNK] [UNK] [UNK] [UNK] [UNK] [UNK] [UNK] [UNK] [UNK] [UNK] [UNK] [UNK] [UNK] [UNK] [UNK] [UNK] [UNK] [UNK] [UNK] [UNK] [UNK] [UNK] [UNK] [UNK] [UNK]\n",
            "true label is:\n",
            "positive\n",
            "predicted label is:\n",
            "positive\n"
          ]
        }
      ]
    },
    {
      "cell_type": "code",
      "source": [
        "sequences = x_test_fin[100]\n",
        "y = y_test_fin[100]\n",
        "decoded = decode_sequence(sequences, word_index)\n",
        "print(decoded)\n",
        "print(y)"
      ],
      "metadata": {
        "colab": {
          "base_uri": "https://localhost:8080/"
        },
        "id": "OjCOYMiOrMuL",
        "outputId": "17d74fa8-b45c-4af5-e0cd-5b9202f1bf30"
      },
      "execution_count": null,
      "outputs": [
        {
          "output_type": "stream",
          "name": "stdout",
          "text": [
            "[START] first a word of caution the dvd box describes this film as a comedy i don't think that was the intention of anyone connected with the film other than some marketing morons while light and a little bit funny in places it is not a comedy and if you expect that you will be disappointed br br i had never even heard of this film and had absolutely no expectations one way or the other considering that the other two dvds i picked up were big disappointments i was so happy when i saw this film the acting writing and direction were excellent the story itself definitely interested me as you don't usually see films about the final month of france before the nazi [OOV] in 1940 it gave some insight into the parasites that gave up so quickly and agreed to their beloved country along the way there are plots involving a selfish and weak actress played very well by isabelle adjani who looks marvelous after all these years she kills an ex lover and then finds a poor sap to take the fall this sap escapes from prison and finds her with another lover a high government official and [OOV] played by gerard depardieu in addition a subplot about a jewish [OOV] trying to [OOV] out of the country is introduced and eventually this becomes the main plot the story has a lot of nice twists and turns a light sense of humor without trying to be a comedy and some genuine suspenseful moments together they create a nice package this is sure to please [UNK] [UNK] [UNK] [UNK] [UNK] [UNK] [UNK] [UNK] [UNK] [UNK] [UNK] [UNK] [UNK] [UNK] [UNK] [UNK] [UNK] [UNK] [UNK] [UNK] [UNK] [UNK] [UNK] [UNK] [UNK] [UNK] [UNK] [UNK] [UNK] [UNK] [UNK] [UNK]\n",
            "1\n"
          ]
        }
      ]
    },
    {
      "cell_type": "code",
      "source": [
        "one_review(model,x_test_device[100],decoded,y_test_device[100],criterion)"
      ],
      "metadata": {
        "colab": {
          "base_uri": "https://localhost:8080/"
        },
        "id": "XfvhvpW6rTy4",
        "outputId": "07b245c1-325b-4484-9518-9e7ee768d130"
      },
      "execution_count": null,
      "outputs": [
        {
          "output_type": "stream",
          "name": "stdout",
          "text": [
            "Input sentence is:\n",
            "[START] first a word of caution the dvd box describes this film as a comedy i don't think that was the intention of anyone connected with the film other than some marketing morons while light and a little bit funny in places it is not a comedy and if you expect that you will be disappointed br br i had never even heard of this film and had absolutely no expectations one way or the other considering that the other two dvds i picked up were big disappointments i was so happy when i saw this film the acting writing and direction were excellent the story itself definitely interested me as you don't usually see films about the final month of france before the nazi [OOV] in 1940 it gave some insight into the parasites that gave up so quickly and agreed to their beloved country along the way there are plots involving a selfish and weak actress played very well by isabelle adjani who looks marvelous after all these years she kills an ex lover and then finds a poor sap to take the fall this sap escapes from prison and finds her with another lover a high government official and [OOV] played by gerard depardieu in addition a subplot about a jewish [OOV] trying to [OOV] out of the country is introduced and eventually this becomes the main plot the story has a lot of nice twists and turns a light sense of humor without trying to be a comedy and some genuine suspenseful moments together they create a nice package this is sure to please [UNK] [UNK] [UNK] [UNK] [UNK] [UNK] [UNK] [UNK] [UNK] [UNK] [UNK] [UNK] [UNK] [UNK] [UNK] [UNK] [UNK] [UNK] [UNK] [UNK] [UNK] [UNK] [UNK] [UNK] [UNK] [UNK] [UNK] [UNK] [UNK] [UNK] [UNK] [UNK]\n",
            "true label is:\n",
            "positive\n",
            "predicted label is:\n",
            "positive\n"
          ]
        }
      ]
    },
    {
      "cell_type": "code",
      "source": [
        "sequences = x_test_fin[1000]\n",
        "y = y_test_fin[1000]\n",
        "decoded = decode_sequence(sequences, word_index)\n",
        "print(decoded)\n",
        "print(y)"
      ],
      "metadata": {
        "colab": {
          "base_uri": "https://localhost:8080/"
        },
        "id": "T7ogc7H9rYc-",
        "outputId": "81b381fd-962a-4511-cca2-4d39acc28aa0"
      },
      "execution_count": null,
      "outputs": [
        {
          "output_type": "stream",
          "name": "stdout",
          "text": [
            "[START] the show is average it doesn't make me laugh particularly however i think courtney really brings it down she doesn't look natural she has these three ways to talk all robotic she talks quietly with no [OOV] she talks normally with no [OOV] or she does that thing where she starts talking normally and starts yelling gradually however her yelling is like let's pretend i'm yelling because i shouldn't be too loud on the set br br she is constantly aware of herself being this cute actress doing this funny thing it's annoying you can't really get her personality because she doesn't really produce emotion and doesn't get upset she has this husband who's doing all these stupid things and there is no reaction from her very dry and plain acting [UNK] [UNK] [UNK] [UNK] [UNK] [UNK] [UNK] [UNK] [UNK] [UNK] [UNK] [UNK] [UNK] [UNK] [UNK] [UNK] [UNK] [UNK] [UNK] [UNK] [UNK] [UNK] [UNK] [UNK] [UNK] [UNK] [UNK] [UNK] [UNK] [UNK] [UNK] [UNK] [UNK] [UNK] [UNK] [UNK] [UNK] [UNK] [UNK] [UNK] [UNK] [UNK] [UNK] [UNK] [UNK] [UNK] [UNK] [UNK] [UNK] [UNK] [UNK] [UNK] [UNK] [UNK] [UNK] [UNK] [UNK] [UNK] [UNK] [UNK] [UNK] [UNK] [UNK] [UNK] [UNK] [UNK] [UNK] [UNK] [UNK] [UNK] [UNK] [UNK] [UNK] [UNK] [UNK] [UNK] [UNK] [UNK] [UNK] [UNK] [UNK] [UNK] [UNK] [UNK] [UNK] [UNK] [UNK] [UNK] [UNK] [UNK] [UNK] [UNK] [UNK] [UNK] [UNK] [UNK] [UNK] [UNK] [UNK] [UNK] [UNK] [UNK] [UNK] [UNK] [UNK] [UNK] [UNK] [UNK] [UNK] [UNK] [UNK] [UNK] [UNK] [UNK] [UNK] [UNK] [UNK] [UNK] [UNK] [UNK] [UNK] [UNK] [UNK] [UNK] [UNK] [UNK] [UNK] [UNK] [UNK] [UNK] [UNK] [UNK] [UNK] [UNK] [UNK] [UNK] [UNK] [UNK] [UNK] [UNK] [UNK] [UNK] [UNK] [UNK] [UNK] [UNK] [UNK] [UNK] [UNK] [UNK] [UNK] [UNK] [UNK] [UNK] [UNK] [UNK] [UNK] [UNK] [UNK] [UNK] [UNK] [UNK] [UNK] [UNK] [UNK] [UNK] [UNK] [UNK]\n",
            "0\n"
          ]
        }
      ]
    },
    {
      "cell_type": "code",
      "source": [
        "one_review(model,x_test_device[1000],decoded,y_test_device[1000],criterion)"
      ],
      "metadata": {
        "colab": {
          "base_uri": "https://localhost:8080/"
        },
        "id": "cg8iuE_VrYSl",
        "outputId": "2cad146f-94a3-44e5-a682-f6e90a7c8340"
      },
      "execution_count": null,
      "outputs": [
        {
          "output_type": "stream",
          "name": "stdout",
          "text": [
            "Input sentence is:\n",
            "[START] the show is average it doesn't make me laugh particularly however i think courtney really brings it down she doesn't look natural she has these three ways to talk all robotic she talks quietly with no [OOV] she talks normally with no [OOV] or she does that thing where she starts talking normally and starts yelling gradually however her yelling is like let's pretend i'm yelling because i shouldn't be too loud on the set br br she is constantly aware of herself being this cute actress doing this funny thing it's annoying you can't really get her personality because she doesn't really produce emotion and doesn't get upset she has this husband who's doing all these stupid things and there is no reaction from her very dry and plain acting [UNK] [UNK] [UNK] [UNK] [UNK] [UNK] [UNK] [UNK] [UNK] [UNK] [UNK] [UNK] [UNK] [UNK] [UNK] [UNK] [UNK] [UNK] [UNK] [UNK] [UNK] [UNK] [UNK] [UNK] [UNK] [UNK] [UNK] [UNK] [UNK] [UNK] [UNK] [UNK] [UNK] [UNK] [UNK] [UNK] [UNK] [UNK] [UNK] [UNK] [UNK] [UNK] [UNK] [UNK] [UNK] [UNK] [UNK] [UNK] [UNK] [UNK] [UNK] [UNK] [UNK] [UNK] [UNK] [UNK] [UNK] [UNK] [UNK] [UNK] [UNK] [UNK] [UNK] [UNK] [UNK] [UNK] [UNK] [UNK] [UNK] [UNK] [UNK] [UNK] [UNK] [UNK] [UNK] [UNK] [UNK] [UNK] [UNK] [UNK] [UNK] [UNK] [UNK] [UNK] [UNK] [UNK] [UNK] [UNK] [UNK] [UNK] [UNK] [UNK] [UNK] [UNK] [UNK] [UNK] [UNK] [UNK] [UNK] [UNK] [UNK] [UNK] [UNK] [UNK] [UNK] [UNK] [UNK] [UNK] [UNK] [UNK] [UNK] [UNK] [UNK] [UNK] [UNK] [UNK] [UNK] [UNK] [UNK] [UNK] [UNK] [UNK] [UNK] [UNK] [UNK] [UNK] [UNK] [UNK] [UNK] [UNK] [UNK] [UNK] [UNK] [UNK] [UNK] [UNK] [UNK] [UNK] [UNK] [UNK] [UNK] [UNK] [UNK] [UNK] [UNK] [UNK] [UNK] [UNK] [UNK] [UNK] [UNK] [UNK] [UNK] [UNK] [UNK] [UNK] [UNK] [UNK] [UNK] [UNK] [UNK] [UNK] [UNK] [UNK] [UNK] [UNK] [UNK] [UNK]\n",
            "true label is:\n",
            "negative\n",
            "predicted label is:\n",
            "negative\n"
          ]
        }
      ]
    }
  ]
}